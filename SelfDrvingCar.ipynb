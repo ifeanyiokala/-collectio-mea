{
  "nbformat": 4,
  "nbformat_minor": 0,
  "metadata": {
    "colab": {
      "name": "Untitled0.ipynb",
      "provenance": [],
      "collapsed_sections": [],
      "mount_file_id": "14uOvxMelHHg9aOe6dZVMkZdWuc6HJxIs",
      "authorship_tag": "ABX9TyNvLUK3fm/2zTcnN0UeXvwz",
      "include_colab_link": true
    },
    "kernelspec": {
      "name": "python3",
      "display_name": "Python 3"
    },
    "language_info": {
      "name": "python"
    }
  },
  "cells": [
    {
      "cell_type": "markdown",
      "metadata": {
        "id": "view-in-github",
        "colab_type": "text"
      },
      "source": [
        "<a href=\"https://colab.research.google.com/github/ifeanyiokala/-collectio-mea/blob/master/SelfDrvingCar.ipynb\" target=\"_parent\"><img src=\"https://colab.research.google.com/assets/colab-badge.svg\" alt=\"Open In Colab\"/></a>"
      ]
    },
    {
      "cell_type": "code",
      "metadata": {
        "id": "-ZENnjS1zsid"
      },
      "source": [
        "import matplotlib.pyplot as plt\n",
        "import matplotlib.image as mpimg\n",
        "import numpy as np"
      ],
      "execution_count": 60,
      "outputs": []
    },
    {
      "cell_type": "code",
      "metadata": {
        "colab": {
          "base_uri": "https://localhost:8080/"
        },
        "id": "_rRpAmSvzvkG",
        "outputId": "17525b02-6734-42f1-a8fa-e51b1f63d1fd"
      },
      "source": [
        "# Read in the image and print out some stats\n",
        "image = mpimg.imread('test.jpg')\n",
        "print('This image is: ',type(image), \n",
        "         'with dimensions:', image.shape)\n",
        "\n",
        "# Grab the x and y size and make a copy of the image\n",
        "ysize = image.shape[0]\n",
        "xsize = image.shape[1]\n",
        "# Note: always make a copy rather than simply using \"=\"\n",
        "color_select = np.copy(image)"
      ],
      "execution_count": 61,
      "outputs": [
        {
          "output_type": "stream",
          "name": "stdout",
          "text": [
            "This image is:  <class 'numpy.ndarray'> with dimensions: (720, 1280, 3)\n"
          ]
        }
      ]
    },
    {
      "cell_type": "code",
      "metadata": {
        "id": "KYwPVSzPzzs6"
      },
      "source": [
        "# Define our color selection criteria\n",
        "# Note: if you run this code, you'll find these are not sensible values!!\n",
        "# But you'll get a chance to play with them soon in a quiz\n",
        "red_threshold = 200\n",
        "green_threshold = 200\n",
        "blue_threshold = 200\n",
        "rgb_threshold = [red_threshold, green_threshold, blue_threshold]"
      ],
      "execution_count": 62,
      "outputs": []
    },
    {
      "cell_type": "code",
      "metadata": {
        "colab": {
          "base_uri": "https://localhost:8080/",
          "height": 240
        },
        "id": "R_CZx-hA0Dbl",
        "outputId": "49d65b71-9951-4e96-8463-f4a754a013ee"
      },
      "source": [
        "# Identify pixels below the threshold\n",
        "thresholds = (image[:,:,0] < rgb_threshold[0]) \\\n",
        "            | (image[:,:,1] < rgb_threshold[1]) \\\n",
        "            | (image[:,:,2] < rgb_threshold[2])\n",
        "color_select[thresholds] = [0,0,0]\n",
        "\n",
        "# Display the image                 \n",
        "plt.imshow(color_select)\n",
        "plt.show()"
      ],
      "execution_count": 63,
      "outputs": [
        {
          "output_type": "display_data",
          "data": {
            "image/png": "[encoded data removed]",
            "text/plain": [
              "<Figure size 432x288 with 1 Axes>"
            ]
          },
          "metadata": {
            "needs_background": "light"
          }
        }
      ]
    },
    {
      "cell_type": "code",
      "metadata": {
        "id": "BjE96MTG0Qyh"
      },
      "source": [
        ""
      ],
      "execution_count": 63,
      "outputs": []
    }
  ]
}